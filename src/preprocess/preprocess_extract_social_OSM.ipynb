{
 "cells": [
  {
   "cell_type": "code",
   "execution_count": 45,
   "metadata": {},
   "outputs": [],
   "source": [
    "import os\n",
    "import sys\n",
    "import geopandas\n",
    "import pandas as pd\n",
    "%matplotlib notebook\n",
    "import matplotlib.pyplot as plt"
   ]
  },
  {
   "cell_type": "markdown",
   "metadata": {},
   "source": []
  },
  {
   "cell_type": "code",
   "execution_count": 46,
   "metadata": {},
   "outputs": [],
   "source": [
    "#data_folder = \"C:\\\\Users\\\\Lena\\\\Dropbox\\\\Hackathon\\\\rv\""
   ]
  },
  {
   "cell_type": "code",
   "execution_count": 47,
   "metadata": {},
   "outputs": [],
   "source": [
    "data_folder = \"/Users/lena/Dropbox/Hackathon/rv\""
   ]
  },
  {
   "cell_type": "code",
   "execution_count": 48,
   "metadata": {},
   "outputs": [],
   "source": [
    "OSM_path = os.path.join(\n",
    "    data_folder, 'incoming_data', 'multipolygons.shp')\n",
    "\n",
    "buildings_path = os.path.join(\n",
    "    data_folder, 'data','buildings', 'stluc_buildings.shp')\n",
    "\n",
    "OSM_extracted_path = os.path.join(\n",
    "    data_folder, 'data','buildings', 'OSM_socials.shp')\n",
    "\n",
    "buildings = geopandas.read_file(buildings_path)\n",
    "OSM = geopandas.read_file(OSM_path)"
   ]
  },
  {
   "cell_type": "code",
   "execution_count": 49,
   "metadata": {},
   "outputs": [],
   "source": [
    "def lookup(lookup_dictionary, x):\n",
    "    if  x in lookup_dictionary.keys():\n",
    "        return lookup_dictionary[x]\n",
    "    else:\n",
    "        return None"
   ]
  },
  {
   "cell_type": "markdown",
   "metadata": {},
   "source": [
    "### DEFINE DICTIONARIES"
   ]
  },
  {
   "cell_type": "code",
   "execution_count": 50,
   "metadata": {},
   "outputs": [],
   "source": [
    "amenity_lookup_dictionary = {\n",
    "                            'school':'education',\n",
    "                            'library':'education',\n",
    "                            'university':'education',\n",
    "                            'college':'education',\n",
    "                            'pre_school':'education',\n",
    "                            'childcare': 'education',\n",
    "                            'kindergarden':'education',\n",
    "                            'dentist':'healthcare', \n",
    "                            'hospital': 'healthcare', \n",
    "                            'pharmacy': 'healthcare', \n",
    "                            'doctors': 'healthcare', \n",
    "                            'clinic': 'healthcare', \n",
    "                            'fast_food':'food',\n",
    "                            'restaurant':'food',\n",
    "                            'cafe':'food',\n",
    "                            'marketplace':'food',\n",
    "                            'bank':'finance',\n",
    "                            'money_transfer':'finance',\n",
    "                            'youth_centre':'emergency', \n",
    "                            'social_facility':'emergency',\n",
    "                            'courthouse':'civic',\n",
    "                            'prison':'civic',\n",
    "                            'bus_station':'transport',\n",
    "                            'parking':'transport',\n",
    "                            'restaurant':'tourism',\n",
    "                            'townhall':'civic',\n",
    "                            'fuel':'fuel'\n",
    "                            }\n",
    "\n",
    "office_lookup_dictionary = {\n",
    "                            'government': 'civic'\n",
    "                            }\n",
    "tourism_lookup_dictionary = {\n",
    "                            'hotel': 'tourism'\n",
    "                            }\n",
    "shop_lookup_dictionary = {\n",
    "                        'convenience':'food',\n",
    "                        'supermarket':'food',\n",
    "                        'mall': 'food',\n",
    "                        'butcher':'food',\n",
    "                        'bakery':'food'\n",
    "                        }"
   ]
  },
  {
   "cell_type": "code",
   "execution_count": 51,
   "metadata": {},
   "outputs": [],
   "source": [
    "#apply lookup to amenity and add new category \n",
    "OSM['category'] = OSM['amenity'].apply(lambda x: lookup(amenity_lookup_dictionary, x))\n",
    "education = OSM[OSM.category == 'education']\n",
    "healthcare = OSM[OSM.category == 'healthcare']\n",
    "emergency = OSM[OSM.category == 'emergency']\n",
    "food = OSM[OSM.category == 'food']\n",
    "civic = OSM[OSM.category == 'civic']\n",
    "transport = OSM[OSM.category == 'transport']\n",
    "tourism = OSM[OSM.category == 'tourism']\n",
    "finance = OSM[OSM.category == 'finance']\n",
    "fuel = OSM[OSM.category == 'fuel']\n",
    "\n",
    "OSM['category'] = OSM['office'].apply(lambda x: lookup(office_lookup_dictionary, x))\n",
    "civic = OSM[OSM.category == 'civic']\n",
    "\n",
    "OSM['category'] = OSM['tourism'].apply(lambda x: lookup(tourism_lookup_dictionary, x))\n",
    "tourism = tourism.append(OSM[OSM.category == 'tourism'])\n",
    "\n",
    "OSM['category'] = OSM['shop'].apply(lambda x: lookup(shop_lookup_dictionary, x))\n",
    "food = food.append(OSM[OSM.category == 'food'])\n"
   ]
  },
  {
   "cell_type": "code",
   "execution_count": 52,
   "metadata": {},
   "outputs": [
    {
     "name": "stdout",
     "output_type": "stream",
     "text": [
      "121\n",
      "45\n",
      "4\n",
      "194\n",
      "29\n",
      "25\n",
      "26\n"
     ]
    }
   ],
   "source": [
    "social_ids = [education, healthcare, emergency, food, civic, finance, fuel]\n",
    "\n",
    "for social_id in social_ids:\n",
    "    print(len(social_id))"
   ]
  },
  {
   "cell_type": "code",
   "execution_count": 53,
   "metadata": {
    "scrolled": true
   },
   "outputs": [
    {
     "data": {
      "text/plain": [
       "geopandas.geodataframe.GeoDataFrame"
      ]
     },
     "execution_count": 53,
     "metadata": {},
     "output_type": "execute_result"
    }
   ],
   "source": [
    "type(fuel)"
   ]
  },
  {
   "cell_type": "code",
   "execution_count": 55,
   "metadata": {
    "scrolled": true
   },
   "outputs": [],
   "source": [
    "fuel = fuel.reset_index()\n"
   ]
  },
  {
   "cell_type": "code",
   "execution_count": 56,
   "metadata": {},
   "outputs": [],
   "source": [
    "fuel = fuel.rename(columns={\n",
    "    'index':'id', \n",
    "\n",
    "    'amenity':'type'})"
   ]
  },
  {
   "cell_type": "code",
   "execution_count": 57,
   "metadata": {},
   "outputs": [],
   "source": [
    "fuel = fuel[[\n",
    "    'id', \n",
    "    'name',\n",
    "    'type', \n",
    "    'geometry'\n",
    "]]\n"
   ]
  },
  {
   "cell_type": "code",
   "execution_count": 60,
   "metadata": {},
   "outputs": [],
   "source": [
    "fuel = geopandas.GeoDataFrame(fuel)\n",
    "fuel.crs = {'init' :'epsg:4326'}\n",
    "fuel = fuel.to_crs({'init': 'epsg:2006'})"
   ]
  },
  {
   "cell_type": "code",
   "execution_count": 61,
   "metadata": {},
   "outputs": [],
   "source": [
    "fuel.to_file(os.path.join(\n",
    "    data_folder, 'data','buildings', 'fuel.shp'))"
   ]
  },
  {
   "cell_type": "markdown",
   "metadata": {},
   "source": [
    "### Export all OSM social data"
   ]
  },
  {
   "cell_type": "code",
   "execution_count": 11,
   "metadata": {
    "scrolled": true
   },
   "outputs": [
    {
     "data": {
      "text/html": [
       "<div>\n",
       "<style scoped>\n",
       "    .dataframe tbody tr th:only-of-type {\n",
       "        vertical-align: middle;\n",
       "    }\n",
       "\n",
       "    .dataframe tbody tr th {\n",
       "        vertical-align: top;\n",
       "    }\n",
       "\n",
       "    .dataframe thead th {\n",
       "        text-align: right;\n",
       "    }\n",
       "</style>\n",
       "<table border=\"1\" class=\"dataframe\">\n",
       "  <thead>\n",
       "    <tr style=\"text-align: right;\">\n",
       "      <th></th>\n",
       "      <th>OSM_id</th>\n",
       "      <th>type</th>\n",
       "      <th>geometry</th>\n",
       "    </tr>\n",
       "  </thead>\n",
       "  <tbody>\n",
       "    <tr>\n",
       "      <th>0</th>\n",
       "      <td>215</td>\n",
       "      <td>education</td>\n",
       "      <td>POLYGON ((513586.4550624012 1517604.187842278,...</td>\n",
       "    </tr>\n",
       "    <tr>\n",
       "      <th>1</th>\n",
       "      <td>352</td>\n",
       "      <td>education</td>\n",
       "      <td>POLYGON ((509246.9768230459 1548504.102553842,...</td>\n",
       "    </tr>\n",
       "    <tr>\n",
       "      <th>2</th>\n",
       "      <td>355</td>\n",
       "      <td>education</td>\n",
       "      <td>POLYGON ((509352.9349526085 1548803.034802738,...</td>\n",
       "    </tr>\n",
       "    <tr>\n",
       "      <th>3</th>\n",
       "      <td>358</td>\n",
       "      <td>education</td>\n",
       "      <td>POLYGON ((508023.0197717446 1550133.141026469,...</td>\n",
       "    </tr>\n",
       "    <tr>\n",
       "      <th>4</th>\n",
       "      <td>489</td>\n",
       "      <td>education</td>\n",
       "      <td>POLYGON ((513574.364330921 1517709.194154475, ...</td>\n",
       "    </tr>\n",
       "  </tbody>\n",
       "</table>\n",
       "</div>"
      ],
      "text/plain": [
       "   OSM_id       type                                           geometry\n",
       "0     215  education  POLYGON ((513586.4550624012 1517604.187842278,...\n",
       "1     352  education  POLYGON ((509246.9768230459 1548504.102553842,...\n",
       "2     355  education  POLYGON ((509352.9349526085 1548803.034802738,...\n",
       "3     358  education  POLYGON ((508023.0197717446 1550133.141026469,...\n",
       "4     489  education  POLYGON ((513574.364330921 1517709.194154475, ..."
      ]
     },
     "execution_count": 11,
     "metadata": {},
     "output_type": "execute_result"
    }
   ],
   "source": [
    "#social_ids = [education, healthcare]\n",
    "social_OSM_merged = []\n",
    "#social_OSM_merged = pd.DataFrame(columns =['category','geometry'])\n",
    "for social_id in social_ids:\n",
    "    social_df = geopandas.GeoDataFrame(social_id[[\n",
    "            'category',\n",
    "            'geometry'\n",
    "        ]])\n",
    "    social_OSM_merged.append(social_df)\n",
    "social_OSM_merged = pd.concat(social_OSM_merged, axis=0, sort=False)\n",
    "\n",
    "\n",
    "social_OSM_merged = social_OSM_merged.reset_index()\n",
    "social_OSM_merged = social_OSM_merged.rename(columns ={\n",
    "    'index' : 'OSM_id',\n",
    "    'category':'type'\n",
    "})\n",
    "social_OSM_merged.crs = {'init' :'epsg:4326'}\n",
    "social_OSM_merged = social_OSM_merged.to_crs({'init': 'epsg:2006'})\n",
    "social_OSM_merged.to_file(OSM_extracted_path)\n",
    "social_OSM_merged.head()"
   ]
  },
  {
   "cell_type": "markdown",
   "metadata": {},
   "source": [
    "# Merge all point assets to OSM socials "
   ]
  },
  {
   "cell_type": "code",
   "execution_count": 12,
   "metadata": {},
   "outputs": [],
   "source": [
    "social_point_ids = ['healthcare_points', 'emergency_points', 'food_points', 'tourism_points', 'education_points', 'fuel_points']"
   ]
  },
  {
   "cell_type": "code",
   "execution_count": 13,
   "metadata": {},
   "outputs": [],
   "source": [
    "def load_social(data_folder, social_id):  \n",
    "    social_path = os.path.join(\n",
    "        data_folder, 'data','buildings', '{}.shp'.format(social_id))\n",
    "    print(\"Reading:\", social_path)  \n",
    "    socials = geopandas.read_file(social_path)\n",
    "    \n",
    "    if socials.crs != {'init':'epsg:2006'}:\n",
    "        socials = socials.to_crs({'init':'epsg:2006'})\n",
    "    return socials"
   ]
  },
  {
   "cell_type": "code",
   "execution_count": 14,
   "metadata": {},
   "outputs": [],
   "source": [
    "social_point_path = os.path.join(\n",
    "    data_folder, 'data', 'buildings', 'social_points_merged.shp')"
   ]
  },
  {
   "cell_type": "markdown",
   "metadata": {},
   "source": [
    "## Merge all social point assets together with consistent naming"
   ]
  },
  {
   "cell_type": "code",
   "execution_count": 17,
   "metadata": {},
   "outputs": [
    {
     "name": "stdout",
     "output_type": "stream",
     "text": [
      "Reading: /Users/lena/Dropbox/Hackathon/rv/data/buildings/healthcare_points.shp\n",
      "78\n",
      "Reading: /Users/lena/Dropbox/Hackathon/rv/data/buildings/emergency_points.shp\n",
      "8\n",
      "Reading: /Users/lena/Dropbox/Hackathon/rv/data/buildings/food_points.shp\n",
      "35\n",
      "Reading: /Users/lena/Dropbox/Hackathon/rv/data/buildings/tourism_points.shp\n",
      "45\n",
      "Reading: /Users/lena/Dropbox/Hackathon/rv/data/buildings/education_points.shp\n",
      "122\n",
      "Reading: /Users/lena/Dropbox/Hackathon/rv/data/buildings/fuel_points.shp\n"
     ]
    },
    {
     "ename": "DriverError",
     "evalue": "/Users/lena/Dropbox/Hackathon/rv/data/buildings/fuel_points.shp: No such file or directory",
     "output_type": "error",
     "traceback": [
      "\u001b[0;31m---------------------------------------------------------------------------\u001b[0m",
      "\u001b[0;31mCPLE_OpenFailedError\u001b[0m                      Traceback (most recent call last)",
      "\u001b[0;32mfiona/_shim.pyx\u001b[0m in \u001b[0;36mfiona._shim.gdal_open_vector\u001b[0;34m()\u001b[0m\n",
      "\u001b[0;32mfiona/_err.pyx\u001b[0m in \u001b[0;36mfiona._err.exc_wrap_pointer\u001b[0;34m()\u001b[0m\n",
      "\u001b[0;31mCPLE_OpenFailedError\u001b[0m: /Users/lena/Dropbox/Hackathon/rv/data/buildings/fuel_points.shp: No such file or directory",
      "\nDuring handling of the above exception, another exception occurred:\n",
      "\u001b[0;31mDriverError\u001b[0m                               Traceback (most recent call last)",
      "\u001b[0;32m<ipython-input-17-4d937b4b5891>\u001b[0m in \u001b[0;36m<module>\u001b[0;34m\u001b[0m\n\u001b[1;32m      1\u001b[0m \u001b[0msocial_point_all\u001b[0m \u001b[0;34m=\u001b[0m\u001b[0;34m[\u001b[0m\u001b[0;34m]\u001b[0m\u001b[0;34m\u001b[0m\u001b[0;34m\u001b[0m\u001b[0m\n\u001b[1;32m      2\u001b[0m \u001b[0;32mfor\u001b[0m \u001b[0msocial_point_id\u001b[0m \u001b[0;32min\u001b[0m \u001b[0msocial_point_ids\u001b[0m\u001b[0;34m:\u001b[0m\u001b[0;34m\u001b[0m\u001b[0;34m\u001b[0m\u001b[0m\n\u001b[0;32m----> 3\u001b[0;31m     \u001b[0msocial_point_df\u001b[0m \u001b[0;34m=\u001b[0m \u001b[0mload_social\u001b[0m\u001b[0;34m(\u001b[0m\u001b[0mdata_folder\u001b[0m\u001b[0;34m,\u001b[0m \u001b[0msocial_point_id\u001b[0m\u001b[0;34m)\u001b[0m\u001b[0;34m\u001b[0m\u001b[0;34m\u001b[0m\u001b[0m\n\u001b[0m\u001b[1;32m      4\u001b[0m     \u001b[0mprint\u001b[0m\u001b[0;34m(\u001b[0m\u001b[0mlen\u001b[0m\u001b[0;34m(\u001b[0m\u001b[0msocial_point_df\u001b[0m\u001b[0;34m)\u001b[0m\u001b[0;34m)\u001b[0m\u001b[0;34m\u001b[0m\u001b[0;34m\u001b[0m\u001b[0m\n\u001b[1;32m      5\u001b[0m     \u001b[0msocial_point_all\u001b[0m\u001b[0;34m.\u001b[0m\u001b[0mappend\u001b[0m\u001b[0;34m(\u001b[0m\u001b[0msocial_point_df\u001b[0m\u001b[0;34m)\u001b[0m\u001b[0;34m\u001b[0m\u001b[0;34m\u001b[0m\u001b[0m\n",
      "\u001b[0;32m<ipython-input-13-8985f8b241e1>\u001b[0m in \u001b[0;36mload_social\u001b[0;34m(data_folder, social_id)\u001b[0m\n\u001b[1;32m      3\u001b[0m         data_folder, 'data','buildings', '{}.shp'.format(social_id))\n\u001b[1;32m      4\u001b[0m     \u001b[0mprint\u001b[0m\u001b[0;34m(\u001b[0m\u001b[0;34m\"Reading:\"\u001b[0m\u001b[0;34m,\u001b[0m \u001b[0msocial_path\u001b[0m\u001b[0;34m)\u001b[0m\u001b[0;34m\u001b[0m\u001b[0;34m\u001b[0m\u001b[0m\n\u001b[0;32m----> 5\u001b[0;31m     \u001b[0msocials\u001b[0m \u001b[0;34m=\u001b[0m \u001b[0mgeopandas\u001b[0m\u001b[0;34m.\u001b[0m\u001b[0mread_file\u001b[0m\u001b[0;34m(\u001b[0m\u001b[0msocial_path\u001b[0m\u001b[0;34m)\u001b[0m\u001b[0;34m\u001b[0m\u001b[0;34m\u001b[0m\u001b[0m\n\u001b[0m\u001b[1;32m      6\u001b[0m \u001b[0;34m\u001b[0m\u001b[0m\n\u001b[1;32m      7\u001b[0m     \u001b[0;32mif\u001b[0m \u001b[0msocials\u001b[0m\u001b[0;34m.\u001b[0m\u001b[0mcrs\u001b[0m \u001b[0;34m!=\u001b[0m \u001b[0;34m{\u001b[0m\u001b[0;34m'init'\u001b[0m\u001b[0;34m:\u001b[0m\u001b[0;34m'epsg:2006'\u001b[0m\u001b[0;34m}\u001b[0m\u001b[0;34m:\u001b[0m\u001b[0;34m\u001b[0m\u001b[0;34m\u001b[0m\u001b[0m\n",
      "\u001b[0;32m~/miniconda3/envs/nismod_int/lib/python3.7/site-packages/geopandas/io/file.py\u001b[0m in \u001b[0;36mread_file\u001b[0;34m(filename, bbox, **kwargs)\u001b[0m\n\u001b[1;32m     75\u001b[0m \u001b[0;34m\u001b[0m\u001b[0m\n\u001b[1;32m     76\u001b[0m     \u001b[0;32mwith\u001b[0m \u001b[0mfiona_env\u001b[0m\u001b[0;34m(\u001b[0m\u001b[0;34m)\u001b[0m\u001b[0;34m:\u001b[0m\u001b[0;34m\u001b[0m\u001b[0;34m\u001b[0m\u001b[0m\n\u001b[0;32m---> 77\u001b[0;31m         \u001b[0;32mwith\u001b[0m \u001b[0mreader\u001b[0m\u001b[0;34m(\u001b[0m\u001b[0mpath_or_bytes\u001b[0m\u001b[0;34m,\u001b[0m \u001b[0;34m**\u001b[0m\u001b[0mkwargs\u001b[0m\u001b[0;34m)\u001b[0m \u001b[0;32mas\u001b[0m \u001b[0mfeatures\u001b[0m\u001b[0;34m:\u001b[0m\u001b[0;34m\u001b[0m\u001b[0;34m\u001b[0m\u001b[0m\n\u001b[0m\u001b[1;32m     78\u001b[0m \u001b[0;34m\u001b[0m\u001b[0m\n\u001b[1;32m     79\u001b[0m             \u001b[0;31m# In a future Fiona release the crs attribute of features will\u001b[0m\u001b[0;34m\u001b[0m\u001b[0;34m\u001b[0m\u001b[0;34m\u001b[0m\u001b[0m\n",
      "\u001b[0;32m~/miniconda3/envs/nismod_int/lib/python3.7/site-packages/fiona/env.py\u001b[0m in \u001b[0;36mwrapper\u001b[0;34m(*args, **kwargs)\u001b[0m\n\u001b[1;32m    394\u001b[0m     \u001b[0;32mdef\u001b[0m \u001b[0mwrapper\u001b[0m\u001b[0;34m(\u001b[0m\u001b[0;34m*\u001b[0m\u001b[0margs\u001b[0m\u001b[0;34m,\u001b[0m \u001b[0;34m**\u001b[0m\u001b[0mkwargs\u001b[0m\u001b[0;34m)\u001b[0m\u001b[0;34m:\u001b[0m\u001b[0;34m\u001b[0m\u001b[0;34m\u001b[0m\u001b[0m\n\u001b[1;32m    395\u001b[0m         \u001b[0;32mif\u001b[0m \u001b[0mlocal\u001b[0m\u001b[0;34m.\u001b[0m\u001b[0m_env\u001b[0m\u001b[0;34m:\u001b[0m\u001b[0;34m\u001b[0m\u001b[0;34m\u001b[0m\u001b[0m\n\u001b[0;32m--> 396\u001b[0;31m             \u001b[0;32mreturn\u001b[0m \u001b[0mf\u001b[0m\u001b[0;34m(\u001b[0m\u001b[0;34m*\u001b[0m\u001b[0margs\u001b[0m\u001b[0;34m,\u001b[0m \u001b[0;34m**\u001b[0m\u001b[0mkwargs\u001b[0m\u001b[0;34m)\u001b[0m\u001b[0;34m\u001b[0m\u001b[0;34m\u001b[0m\u001b[0m\n\u001b[0m\u001b[1;32m    397\u001b[0m         \u001b[0;32melse\u001b[0m\u001b[0;34m:\u001b[0m\u001b[0;34m\u001b[0m\u001b[0;34m\u001b[0m\u001b[0m\n\u001b[1;32m    398\u001b[0m             \u001b[0;32mif\u001b[0m \u001b[0misinstance\u001b[0m\u001b[0;34m(\u001b[0m\u001b[0margs\u001b[0m\u001b[0;34m[\u001b[0m\u001b[0;36m0\u001b[0m\u001b[0;34m]\u001b[0m\u001b[0;34m,\u001b[0m \u001b[0mstr\u001b[0m\u001b[0;34m)\u001b[0m\u001b[0;34m:\u001b[0m\u001b[0;34m\u001b[0m\u001b[0;34m\u001b[0m\u001b[0m\n",
      "\u001b[0;32m~/miniconda3/envs/nismod_int/lib/python3.7/site-packages/fiona/__init__.py\u001b[0m in \u001b[0;36mopen\u001b[0;34m(fp, mode, driver, schema, crs, encoding, layer, vfs, enabled_drivers, crs_wkt, **kwargs)\u001b[0m\n\u001b[1;32m    251\u001b[0m         \u001b[0;32mif\u001b[0m \u001b[0mmode\u001b[0m \u001b[0;32min\u001b[0m \u001b[0;34m(\u001b[0m\u001b[0;34m'a'\u001b[0m\u001b[0;34m,\u001b[0m \u001b[0;34m'r'\u001b[0m\u001b[0;34m)\u001b[0m\u001b[0;34m:\u001b[0m\u001b[0;34m\u001b[0m\u001b[0;34m\u001b[0m\u001b[0m\n\u001b[1;32m    252\u001b[0m             c = Collection(path, mode, driver=driver, encoding=encoding,\n\u001b[0;32m--> 253\u001b[0;31m                            layer=layer, enabled_drivers=enabled_drivers, **kwargs)\n\u001b[0m\u001b[1;32m    254\u001b[0m         \u001b[0;32melif\u001b[0m \u001b[0mmode\u001b[0m \u001b[0;34m==\u001b[0m \u001b[0;34m'w'\u001b[0m\u001b[0;34m:\u001b[0m\u001b[0;34m\u001b[0m\u001b[0;34m\u001b[0m\u001b[0m\n\u001b[1;32m    255\u001b[0m             \u001b[0;32mif\u001b[0m \u001b[0mschema\u001b[0m\u001b[0;34m:\u001b[0m\u001b[0;34m\u001b[0m\u001b[0;34m\u001b[0m\u001b[0m\n",
      "\u001b[0;32m~/miniconda3/envs/nismod_int/lib/python3.7/site-packages/fiona/collection.py\u001b[0m in \u001b[0;36m__init__\u001b[0;34m(self, path, mode, driver, schema, crs, encoding, layer, vsi, archive, enabled_drivers, crs_wkt, ignore_fields, ignore_geometry, **kwargs)\u001b[0m\n\u001b[1;32m    157\u001b[0m             \u001b[0;32mif\u001b[0m \u001b[0mself\u001b[0m\u001b[0;34m.\u001b[0m\u001b[0mmode\u001b[0m \u001b[0;34m==\u001b[0m \u001b[0;34m'r'\u001b[0m\u001b[0;34m:\u001b[0m\u001b[0;34m\u001b[0m\u001b[0;34m\u001b[0m\u001b[0m\n\u001b[1;32m    158\u001b[0m                 \u001b[0mself\u001b[0m\u001b[0;34m.\u001b[0m\u001b[0msession\u001b[0m \u001b[0;34m=\u001b[0m \u001b[0mSession\u001b[0m\u001b[0;34m(\u001b[0m\u001b[0;34m)\u001b[0m\u001b[0;34m\u001b[0m\u001b[0;34m\u001b[0m\u001b[0m\n\u001b[0;32m--> 159\u001b[0;31m                 \u001b[0mself\u001b[0m\u001b[0;34m.\u001b[0m\u001b[0msession\u001b[0m\u001b[0;34m.\u001b[0m\u001b[0mstart\u001b[0m\u001b[0;34m(\u001b[0m\u001b[0mself\u001b[0m\u001b[0;34m,\u001b[0m \u001b[0;34m**\u001b[0m\u001b[0mkwargs\u001b[0m\u001b[0;34m)\u001b[0m\u001b[0;34m\u001b[0m\u001b[0;34m\u001b[0m\u001b[0m\n\u001b[0m\u001b[1;32m    160\u001b[0m             \u001b[0;32melif\u001b[0m \u001b[0mself\u001b[0m\u001b[0;34m.\u001b[0m\u001b[0mmode\u001b[0m \u001b[0;32min\u001b[0m \u001b[0;34m(\u001b[0m\u001b[0;34m'a'\u001b[0m\u001b[0;34m,\u001b[0m \u001b[0;34m'w'\u001b[0m\u001b[0;34m)\u001b[0m\u001b[0;34m:\u001b[0m\u001b[0;34m\u001b[0m\u001b[0;34m\u001b[0m\u001b[0m\n\u001b[1;32m    161\u001b[0m                 \u001b[0mself\u001b[0m\u001b[0;34m.\u001b[0m\u001b[0msession\u001b[0m \u001b[0;34m=\u001b[0m \u001b[0mWritingSession\u001b[0m\u001b[0;34m(\u001b[0m\u001b[0;34m)\u001b[0m\u001b[0;34m\u001b[0m\u001b[0;34m\u001b[0m\u001b[0m\n",
      "\u001b[0;32mfiona/ogrext.pyx\u001b[0m in \u001b[0;36mfiona.ogrext.Session.start\u001b[0;34m()\u001b[0m\n",
      "\u001b[0;32mfiona/_shim.pyx\u001b[0m in \u001b[0;36mfiona._shim.gdal_open_vector\u001b[0;34m()\u001b[0m\n",
      "\u001b[0;31mDriverError\u001b[0m: /Users/lena/Dropbox/Hackathon/rv/data/buildings/fuel_points.shp: No such file or directory"
     ]
    }
   ],
   "source": [
    "social_point_all =[]\n",
    "for social_point_id in social_point_ids:\n",
    "    social_point_df = load_social(data_folder, social_point_id)\n",
    "    print(len(social_point_df))\n",
    "    social_point_all.append(social_point_df)\n",
    "    \n",
    "social_point_all = pd.concat(social_point_all, axis=0, sort = False, ignore_index=True)\n",
    "social_point_all.reset_index(inplace= True)\n",
    "social_point_all = social_point_all.rename(columns={\n",
    "    'index': 'id_soc_point'\n",
    "})\n",
    "social_point_all.to_file(social_point_path)\n",
    "social_point_all.head()"
   ]
  },
  {
   "cell_type": "code",
   "execution_count": 18,
   "metadata": {},
   "outputs": [
    {
     "data": {
      "text/plain": [
       "<function list.index(value, start=0, stop=9223372036854775807, /)>"
      ]
     },
     "execution_count": 18,
     "metadata": {},
     "output_type": "execute_result"
    }
   ],
   "source": [
    "social_point_all.index"
   ]
  },
  {
   "cell_type": "code",
   "execution_count": null,
   "metadata": {},
   "outputs": [],
   "source": []
  },
  {
   "cell_type": "markdown",
   "metadata": {},
   "source": [
    "--- CHECK NEW OSM SOCIALS COMBINE FILE ---"
   ]
  },
  {
   "cell_type": "markdown",
   "metadata": {},
   "source": [
    "### Determine all intersections: assign polygon geometry to social point assets; keep all OSM data and add the social ones\n",
    "288 social points\n",
    "418 OSM social assets \n",
    "\n",
    "86 inner join "
   ]
  },
  {
   "cell_type": "code",
   "execution_count": 19,
   "metadata": {
    "scrolled": true
   },
   "outputs": [
    {
     "ename": "ValueError",
     "evalue": "'right_df' should be GeoDataFrame, got <class 'list'>",
     "output_type": "error",
     "traceback": [
      "\u001b[0;31m---------------------------------------------------------------------------\u001b[0m",
      "\u001b[0;31mValueError\u001b[0m                                Traceback (most recent call last)",
      "\u001b[0;32m<ipython-input-19-1d870959d288>\u001b[0m in \u001b[0;36m<module>\u001b[0;34m\u001b[0m\n\u001b[0;32m----> 1\u001b[0;31m \u001b[0mOSM_point_intersect\u001b[0m \u001b[0;34m=\u001b[0m \u001b[0mgeopandas\u001b[0m\u001b[0;34m.\u001b[0m\u001b[0msjoin\u001b[0m\u001b[0;34m(\u001b[0m\u001b[0msocial_OSM_merged\u001b[0m\u001b[0;34m,\u001b[0m\u001b[0msocial_point_all\u001b[0m\u001b[0;34m,\u001b[0m  \u001b[0mhow\u001b[0m\u001b[0;34m=\u001b[0m\u001b[0;34m'left'\u001b[0m\u001b[0;34m,\u001b[0m \u001b[0mop\u001b[0m\u001b[0;34m=\u001b[0m\u001b[0;34m'intersects'\u001b[0m\u001b[0;34m)\u001b[0m\u001b[0;34m\u001b[0m\u001b[0;34m\u001b[0m\u001b[0m\n\u001b[0m\u001b[1;32m      2\u001b[0m \u001b[0;34m\u001b[0m\u001b[0m\n\u001b[1;32m      3\u001b[0m OSM_point_intersect = OSM_point_intersect.rename(columns={\n\u001b[1;32m      4\u001b[0m     \u001b[0;34m'type_left'\u001b[0m\u001b[0;34m:\u001b[0m\u001b[0;34m'type'\u001b[0m\u001b[0;34m\u001b[0m\u001b[0;34m\u001b[0m\u001b[0m\n\u001b[1;32m      5\u001b[0m })\n",
      "\u001b[0;32m~/miniconda3/envs/nismod_int/lib/python3.7/site-packages/geopandas/tools/sjoin.py\u001b[0m in \u001b[0;36msjoin\u001b[0;34m(left_df, right_df, how, op, lsuffix, rsuffix)\u001b[0m\n\u001b[1;32m     39\u001b[0m     \u001b[0;32mif\u001b[0m \u001b[0;32mnot\u001b[0m \u001b[0misinstance\u001b[0m\u001b[0;34m(\u001b[0m\u001b[0mright_df\u001b[0m\u001b[0;34m,\u001b[0m \u001b[0mGeoDataFrame\u001b[0m\u001b[0;34m)\u001b[0m\u001b[0;34m:\u001b[0m\u001b[0;34m\u001b[0m\u001b[0;34m\u001b[0m\u001b[0m\n\u001b[1;32m     40\u001b[0m         raise ValueError(\"'right_df' should be GeoDataFrame, got {}\".format(\n\u001b[0;32m---> 41\u001b[0;31m                          type(right_df)))\n\u001b[0m\u001b[1;32m     42\u001b[0m \u001b[0;34m\u001b[0m\u001b[0m\n\u001b[1;32m     43\u001b[0m     \u001b[0mallowed_hows\u001b[0m \u001b[0;34m=\u001b[0m \u001b[0;34m[\u001b[0m\u001b[0;34m'left'\u001b[0m\u001b[0;34m,\u001b[0m \u001b[0;34m'right'\u001b[0m\u001b[0;34m,\u001b[0m \u001b[0;34m'inner'\u001b[0m\u001b[0;34m]\u001b[0m\u001b[0;34m\u001b[0m\u001b[0;34m\u001b[0m\u001b[0m\n",
      "\u001b[0;31mValueError\u001b[0m: 'right_df' should be GeoDataFrame, got <class 'list'>"
     ]
    }
   ],
   "source": [
    "OSM_point_intersect = geopandas.sjoin(social_OSM_merged,social_point_all,  how='left', op='intersects')\n",
    "\n",
    "OSM_point_intersect = OSM_point_intersect.rename(columns={\n",
    "    'type_left':'type'\n",
    "})\n",
    "\n",
    "OSM_point_intersect = OSM_point_intersect[[\n",
    "    'type',\n",
    "    'OSM_id',\n",
    "    'id_soc_point',\n",
    "    'name',\n",
    "    'geometry'\n",
    "]]\n",
    "OSM_point_intersect.drop_duplicates(['id_soc_point'])\n",
    "OSM_point_intersect"
   ]
  },
  {
   "cell_type": "code",
   "execution_count": 20,
   "metadata": {},
   "outputs": [
    {
     "ename": "NameError",
     "evalue": "name 'OSM_point_intersect' is not defined",
     "output_type": "error",
     "traceback": [
      "\u001b[0;31m---------------------------------------------------------------------------\u001b[0m",
      "\u001b[0;31mNameError\u001b[0m                                 Traceback (most recent call last)",
      "\u001b[0;32m<ipython-input-20-ae9d1e9010c1>\u001b[0m in \u001b[0;36m<module>\u001b[0;34m\u001b[0m\n\u001b[0;32m----> 1\u001b[0;31m \u001b[0mOSM_point_intersect\u001b[0m \u001b[0;34m=\u001b[0m \u001b[0mgeopandas\u001b[0m\u001b[0;34m.\u001b[0m\u001b[0msjoin\u001b[0m\u001b[0;34m(\u001b[0m\u001b[0msocial_OSM_merged\u001b[0m\u001b[0;34m,\u001b[0m \u001b[0mOSM_point_intersect\u001b[0m\u001b[0;34m,\u001b[0m \u001b[0mhow\u001b[0m\u001b[0;34m=\u001b[0m\u001b[0;34m'left'\u001b[0m\u001b[0;34m)\u001b[0m\u001b[0;34m\u001b[0m\u001b[0;34m\u001b[0m\u001b[0m\n\u001b[0m\u001b[1;32m      2\u001b[0m \u001b[0mlen\u001b[0m\u001b[0;34m(\u001b[0m\u001b[0mOSM_point_intersect\u001b[0m\u001b[0;34m)\u001b[0m\u001b[0;34m\u001b[0m\u001b[0;34m\u001b[0m\u001b[0m\n",
      "\u001b[0;31mNameError\u001b[0m: name 'OSM_point_intersect' is not defined"
     ]
    }
   ],
   "source": [
    "OSM_point_intersect = geopandas.sjoin(social_OSM_merged, OSM_point_intersect, how='left')\n",
    "len(OSM_point_intersect)"
   ]
  },
  {
   "cell_type": "code",
   "execution_count": 21,
   "metadata": {},
   "outputs": [
    {
     "ename": "NameError",
     "evalue": "name 'OSM_point_intersect' is not defined",
     "output_type": "error",
     "traceback": [
      "\u001b[0;31m---------------------------------------------------------------------------\u001b[0m",
      "\u001b[0;31mNameError\u001b[0m                                 Traceback (most recent call last)",
      "\u001b[0;32m<ipython-input-21-e909f200f9d3>\u001b[0m in \u001b[0;36m<module>\u001b[0;34m\u001b[0m\n\u001b[0;32m----> 1\u001b[0;31m \u001b[0mOSM_point_intersect\u001b[0m\u001b[0;34m.\u001b[0m\u001b[0mhead\u001b[0m\u001b[0;34m(\u001b[0m\u001b[0;34m)\u001b[0m\u001b[0;34m\u001b[0m\u001b[0;34m\u001b[0m\u001b[0m\n\u001b[0m\u001b[1;32m      2\u001b[0m OSM_point_intersect = OSM_point_intersect[[\n\u001b[1;32m      3\u001b[0m     \u001b[0;34m'OSM_id_left'\u001b[0m\u001b[0;34m,\u001b[0m\u001b[0;34m\u001b[0m\u001b[0;34m\u001b[0m\u001b[0m\n\u001b[1;32m      4\u001b[0m     \u001b[0;34m'type_left'\u001b[0m\u001b[0;34m,\u001b[0m\u001b[0;34m\u001b[0m\u001b[0;34m\u001b[0m\u001b[0m\n\u001b[1;32m      5\u001b[0m     \u001b[0;34m'id_soc_point'\u001b[0m\u001b[0;34m,\u001b[0m\u001b[0;34m\u001b[0m\u001b[0;34m\u001b[0m\u001b[0m\n",
      "\u001b[0;31mNameError\u001b[0m: name 'OSM_point_intersect' is not defined"
     ]
    }
   ],
   "source": [
    "OSM_point_intersect.head()\n",
    "OSM_point_intersect = OSM_point_intersect[[\n",
    "    'OSM_id_left',\n",
    "    'type_left',\n",
    "    'id_soc_point',\n",
    "    'name',\n",
    "    'geometry'\n",
    "]]"
   ]
  },
  {
   "cell_type": "code",
   "execution_count": 22,
   "metadata": {},
   "outputs": [
    {
     "ename": "NameError",
     "evalue": "name 'OSM_point_intersect' is not defined",
     "output_type": "error",
     "traceback": [
      "\u001b[0;31m---------------------------------------------------------------------------\u001b[0m",
      "\u001b[0;31mNameError\u001b[0m                                 Traceback (most recent call last)",
      "\u001b[0;32m<ipython-input-22-708d29104ed6>\u001b[0m in \u001b[0;36m<module>\u001b[0;34m\u001b[0m\n\u001b[0;32m----> 1\u001b[0;31m \u001b[0mOSM_point_intersect\u001b[0m \u001b[0;34m=\u001b[0m \u001b[0mgeopandas\u001b[0m\u001b[0;34m.\u001b[0m\u001b[0msjoin\u001b[0m\u001b[0;34m(\u001b[0m\u001b[0msocial_OSM_merged\u001b[0m\u001b[0;34m,\u001b[0m \u001b[0mOSM_point_intersect\u001b[0m\u001b[0;34m,\u001b[0m \u001b[0mhow\u001b[0m\u001b[0;34m=\u001b[0m\u001b[0;34m'inner'\u001b[0m\u001b[0;34m)\u001b[0m\u001b[0;34m\u001b[0m\u001b[0;34m\u001b[0m\u001b[0m\n\u001b[0m\u001b[1;32m      2\u001b[0m \u001b[0mlen\u001b[0m\u001b[0;34m(\u001b[0m\u001b[0mOSM_point_intersect\u001b[0m\u001b[0;34m)\u001b[0m\u001b[0;34m\u001b[0m\u001b[0;34m\u001b[0m\u001b[0m\n",
      "\u001b[0;31mNameError\u001b[0m: name 'OSM_point_intersect' is not defined"
     ]
    }
   ],
   "source": [
    "OSM_point_intersect = geopandas.sjoin(social_OSM_merged, OSM_point_intersect, how='inner')\n",
    "len(OSM_point_intersect)"
   ]
  },
  {
   "cell_type": "code",
   "execution_count": 30,
   "metadata": {},
   "outputs": [],
   "source": [
    "OSM_point_intersect = OSM_point_intersect.rename(columns={\n",
    "    'OSM_id_left':'OSM_id',\n",
    "    'type_left':'type'\n",
    "})"
   ]
  },
  {
   "cell_type": "markdown",
   "metadata": {
    "scrolled": true
   },
   "source": [
    "### Merge missing point assets to OSM for overview with both polygons and points -> by adding based on id those that are merged and adding additional ones "
   ]
  },
  {
   "cell_type": "code",
   "execution_count": 23,
   "metadata": {
    "scrolled": false
   },
   "outputs": [
    {
     "ename": "NameError",
     "evalue": "name 'OSM_point_intersect' is not defined",
     "output_type": "error",
     "traceback": [
      "\u001b[0;31m---------------------------------------------------------------------------\u001b[0m",
      "\u001b[0;31mNameError\u001b[0m                                 Traceback (most recent call last)",
      "\u001b[0;32m<ipython-input-23-fb7a7fbfd51d>\u001b[0m in \u001b[0;36m<module>\u001b[0;34m\u001b[0m\n\u001b[0;32m----> 1\u001b[0;31m \u001b[0mOSM_point_all\u001b[0m \u001b[0;34m=\u001b[0m \u001b[0mOSM_point_intersect\u001b[0m\u001b[0;34m.\u001b[0m\u001b[0mmerge\u001b[0m\u001b[0;34m(\u001b[0m\u001b[0msocial_point_all\u001b[0m\u001b[0;34m,\u001b[0m\u001b[0mhow\u001b[0m \u001b[0;34m=\u001b[0m\u001b[0;34m'outer'\u001b[0m\u001b[0;34m,\u001b[0m \u001b[0mon\u001b[0m \u001b[0;34m=\u001b[0m \u001b[0;34m[\u001b[0m\u001b[0;34m'id_soc_point'\u001b[0m\u001b[0;34m,\u001b[0m\u001b[0;34m'type'\u001b[0m\u001b[0;34m,\u001b[0m \u001b[0;34m'name'\u001b[0m\u001b[0;34m]\u001b[0m\u001b[0;34m)\u001b[0m\u001b[0;34m\u001b[0m\u001b[0;34m\u001b[0m\u001b[0m\n\u001b[0m\u001b[1;32m      2\u001b[0m \u001b[0mOSM_point_all\u001b[0m\u001b[0;34m\u001b[0m\u001b[0;34m\u001b[0m\u001b[0m\n",
      "\u001b[0;31mNameError\u001b[0m: name 'OSM_point_intersect' is not defined"
     ]
    }
   ],
   "source": [
    "OSM_point_all = OSM_point_intersect.merge(social_point_all,how ='outer', on = ['id_soc_point','type', 'name'])\n",
    "OSM_point_all"
   ]
  },
  {
   "cell_type": "code",
   "execution_count": 24,
   "metadata": {},
   "outputs": [],
   "source": [
    "OSM_socials_point_all_path = os.path.join(\n",
    "    data_folder, 'data', 'buildings', 'OSM_social_points_merged.csv')"
   ]
  },
  {
   "cell_type": "code",
   "execution_count": 25,
   "metadata": {},
   "outputs": [
    {
     "ename": "NameError",
     "evalue": "name 'OSM_point_all' is not defined",
     "output_type": "error",
     "traceback": [
      "\u001b[0;31m---------------------------------------------------------------------------\u001b[0m",
      "\u001b[0;31mNameError\u001b[0m                                 Traceback (most recent call last)",
      "\u001b[0;32m<ipython-input-25-2e36c683367a>\u001b[0m in \u001b[0;36m<module>\u001b[0;34m\u001b[0m\n\u001b[0;32m----> 1\u001b[0;31m \u001b[0mOSM_point_all\u001b[0m\u001b[0;34m.\u001b[0m\u001b[0mto_csv\u001b[0m\u001b[0;34m(\u001b[0m\u001b[0mOSM_socials_point_all_path\u001b[0m\u001b[0;34m)\u001b[0m\u001b[0;34m\u001b[0m\u001b[0;34m\u001b[0m\u001b[0m\n\u001b[0m",
      "\u001b[0;31mNameError\u001b[0m: name 'OSM_point_all' is not defined"
     ]
    }
   ],
   "source": [
    "OSM_point_all.to_csv(OSM_socials_point_all_path)"
   ]
  },
  {
   "cell_type": "markdown",
   "metadata": {},
   "source": [
    "OSM_social_point_manualedit = pd.read_csv(OSM_socials_point_all_path)"
   ]
  },
  {
   "cell_type": "markdown",
   "metadata": {},
   "source": [
    "OSM_social_point_manualedit_gdf = geopandas.GeoDataFrame(OSM_social_point_manualedit)"
   ]
  },
  {
   "cell_type": "markdown",
   "metadata": {},
   "source": [
    "OSM_socials_point_all_manualedit_path = os.path.join(\n",
    "    data_folder, 'data', 'buildings', 'OSM_social_points_merged.shp')\n",
    "\n",
    "\n",
    "OSM_social_point_manualedit_gdf.to_file(OSM_socials_point_all_manualedit_path)"
   ]
  },
  {
   "cell_type": "code",
   "execution_count": null,
   "metadata": {},
   "outputs": [],
   "source": []
  },
  {
   "cell_type": "code",
   "execution_count": null,
   "metadata": {},
   "outputs": [],
   "source": []
  },
  {
   "cell_type": "markdown",
   "metadata": {},
   "source": [
    "# Merge buildings and social OSM data together "
   ]
  },
  {
   "cell_type": "markdown",
   "metadata": {},
   "source": [
    "### Load other social infrastructure point shapefiles"
   ]
  },
  {
   "cell_type": "markdown",
   "metadata": {},
   "source": [
    "socials_point_non_OSM_gdf = geopandas.GeoDataFrame(socials_point_non_OSM)\n",
    "socials_point_non_OSM_gdf.head()"
   ]
  },
  {
   "cell_type": "markdown",
   "metadata": {},
   "source": [
    "socials_point_non_OSM_path = os.path.join(\n",
    "    data_folder, 'data', 'buildings', 'social_non_OSM.csv')\n",
    "\n",
    "socials_point_non_OSM = pd.read_csv(socials_point_non_OSM_path)\n",
    "\n",
    "socials_point_non_OSM.head()"
   ]
  },
  {
   "cell_type": "markdown",
   "metadata": {
    "scrolled": false
   },
   "source": [
    "\n",
    "socials_point_non_OSM_gdf= social_point_all.merge(socials_point_non_OSM, on=['id_soc_point', 'name', 'type'])\n",
    "socials_point_non_OSM_gdf.head()\n"
   ]
  },
  {
   "cell_type": "markdown",
   "metadata": {},
   "source": [
    "## Merge all social points with closest building"
   ]
  },
  {
   "cell_type": "markdown",
   "metadata": {},
   "source": [
    "def find_nearest(buildings, point):\n",
    "    distances = buildings.geometry.distance(point.geometry)\n",
    "    min_dist = None\n",
    "    nearest_id = None\n",
    "    for building_id, distance in zip(buildings.id, distances):\n",
    "        if min_dist is None or distance < min_dist:\n",
    "            min_dist = distance\n",
    "            nearest_id = building_id\n",
    "    return nearest_id"
   ]
  },
  {
   "cell_type": "code",
   "execution_count": null,
   "metadata": {},
   "outputs": [],
   "source": [
    " # find nearest building to each point\n",
    "nearest_ids = []\n",
    "for social_point in social_point_all.itertuples():\n",
    "    nearest_id = find_nearest(buildings,social_point_all)\n",
    "    nearest_ids.append(nearest_id)\n",
    "\n",
    "social_point_all['nearest_building_id'] = nearest_ids\n"
   ]
  },
  {
   "cell_type": "markdown",
   "metadata": {},
   "source": [
    "social_point_all"
   ]
  },
  {
   "cell_type": "markdown",
   "metadata": {},
   "source": [
    "links = social_point_all[['nearest_building_id','id_soc_point']]\n",
    "links.head()"
   ]
  },
  {
   "cell_type": "code",
   "execution_count": null,
   "metadata": {},
   "outputs": [],
   "source": []
  },
  {
   "cell_type": "markdown",
   "metadata": {},
   "source": [
    "OSM_socials_point_all_manualedit_path = os.path.join(\n",
    "    data_folder, 'data', 'buildings', 'OSM_social_points_rest.shp')\n",
    "\n",
    "\n",
    "socials_point_non_OSM_gdf.to_file(OSM_socials_point_all_manualedit_path)"
   ]
  },
  {
   "cell_type": "markdown",
   "metadata": {},
   "source": [
    "def load_social(data_folder, social_id):  \n",
    "    social_path = os.path.join(\n",
    "        data_folder, 'incoming_data', '{}.shp'.format(social_id))\n",
    "    print(\"Reading:\", social_path)  \n",
    "    socials = geopandas.read_file(social_path)\n",
    "    \n",
    "    if socials.crs != {'init':'epsg:2006'}:\n",
    "        socials = socials.to_crs({'init':'epsg:2006'})\n",
    "    return socials"
   ]
  },
  {
   "cell_type": "markdown",
   "metadata": {
    "scrolled": true
   },
   "source": [
    "#social_merged.crs = buildings.crs\n",
    "build_soc_points = geopandas.sjoin(buildings, social_point_all, how='inner', op='intersects')\n",
    "build_soc_points"
   ]
  },
  {
   "cell_type": "markdown",
   "metadata": {},
   "source": [
    "social_point_ids = []\n",
    "\n",
    "#social_point_ids = ['stluc_supermarkets']\n",
    "#social_point_ids = ['Fire_Stations']\n",
    "#social_point_ids = ['stluc_schools2018']\n",
    "#'hotels','stluc_supermarkets', 'Fire_Stations', 'stluc_schools2018'"
   ]
  },
  {
   "cell_type": "markdown",
   "metadata": {},
   "source": [
    "len(social_point_df)"
   ]
  },
  {
   "cell_type": "markdown",
   "metadata": {
    "scrolled": true
   },
   "source": [
    "social_fac = ['health_centers', 'pharmacies']\n",
    "\n",
    "social= []\n",
    "for social_point_id in social_fac:\n",
    "    social_fac_df = load_social(data_folder, social_point_id)\n",
    "    social_gov_build['category'] = 'healthcare'\n",
    "    social_gov_build = social_gov_build[[\n",
    "        \n",
    "    ]]\n",
    "    social_gov_build_all.append(social_gov_build)\n",
    "\n",
    "social = pd.concat(social_gov_build_all, axis=0, sort = False)\n",
    "social\n",
    "    "
   ]
  },
  {
   "cell_type": "markdown",
   "metadata": {},
   "source": [
    "social_fac = ['health_centers', 'pharmacies']\n",
    "\n",
    "social= []\n",
    "for social_point_id in social_fac:\n",
    "    social_fac_df = load_social(data_folder, social_point_id)\n",
    "    social_gov_build = geopandas.sjoin(buildings, social_point_df, how='inner', op='intersects')\n",
    "    social_gov_build['category'] = 'healthcare'\n",
    "    social_gov_build_all.append(social_gov_build)\n",
    "\n",
    "social_gov_build_all = pd.concat(social_gov_build_all, axis=0, sort = False)\n",
    "social_gov_build_all\n",
    "    "
   ]
  },
  {
   "cell_type": "markdown",
   "metadata": {},
   "source": [
    "#social_gov_build_all = []\n",
    "for social_point_id in social_point_ids:\n",
    "    social_point_df = load_social(data_folder, social_point_id)\n",
    "    social_point_df['category'] = \n",
    "\n"
   ]
  },
  {
   "cell_type": "code",
   "execution_count": null,
   "metadata": {},
   "outputs": [],
   "source": []
  }
 ],
 "metadata": {
  "kernelspec": {
   "display_name": "Python 3",
   "language": "python",
   "name": "python3"
  },
  "language_info": {
   "codemirror_mode": {
    "name": "ipython",
    "version": 3
   },
   "file_extension": ".py",
   "mimetype": "text/x-python",
   "name": "python",
   "nbconvert_exporter": "python",
   "pygments_lexer": "ipython3",
   "version": "3.7.3"
  }
 },
 "nbformat": 4,
 "nbformat_minor": 2
}
