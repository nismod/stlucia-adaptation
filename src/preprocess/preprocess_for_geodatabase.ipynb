{
 "cells": [
  {
   "cell_type": "code",
   "execution_count": 3,
   "metadata": {},
   "outputs": [],
   "source": [
    "import os\n",
    "import sys\n",
    "import geopandas as gpd\n",
    "import pandas as pd"
   ]
  },
  {
   "cell_type": "code",
   "execution_count": 4,
   "metadata": {},
   "outputs": [],
   "source": [
    "data_folder = \"/Users/lena/Dropbox/Hackathon/rv\""
   ]
  },
  {
   "cell_type": "code",
   "execution_count": 20,
   "metadata": {},
   "outputs": [],
   "source": [
    "file_path = os.path.join(\n",
    "        data_folder, 'incoming_data', 'ocean_coast.shp')\n",
    "files = gpd.read_file(file_path)\n",
    "files.crs = {'init':'epsg:4326'}\n",
    "files = files.to_crs({'init':'epsg:2006'})"
   ]
  },
  {
   "cell_type": "code",
   "execution_count": 21,
   "metadata": {},
   "outputs": [],
   "source": [
    "output = os.path.join(\n",
    "        data_folder, 'incoming_data', 'ocean_coast.shp')\n",
    "files.to_file(output)"
   ]
  },
  {
   "cell_type": "code",
   "execution_count": null,
   "metadata": {},
   "outputs": [],
   "source": []
  },
  {
   "cell_type": "markdown",
   "metadata": {},
   "source": [
    "### For developments"
   ]
  },
  {
   "cell_type": "code",
   "execution_count": 22,
   "metadata": {},
   "outputs": [],
   "source": [
    "file_path = os.path.join(\n",
    "        data_folder, 'data','developments', 'project_choc.shp')\n",
    "files = gpd.read_file(file_path)\n",
    "files.crs = {'init':'epsg:2006'}\n",
    "files = files.to_crs({'init':'epsg:2006'})"
   ]
  },
  {
   "cell_type": "code",
   "execution_count": 23,
   "metadata": {},
   "outputs": [],
   "source": [
    "output = os.path.join(\n",
    "        data_folder, 'data','developments', 'project_choc.shp')\n",
    "files.to_file(output)"
   ]
  },
  {
   "cell_type": "code",
   "execution_count": 8,
   "metadata": {},
   "outputs": [],
   "source": [
    "def crs_adjust(data_folder, file_id):  \n",
    "    file_path = os.path.join(\n",
    "        data_folder, 'incoming_data', '{}.shp'.format(file_id))\n",
    "    files = gpd.read_file(file_path)\n",
    "    files = files.to_crs({'init':'epsg:2006'})\n",
    "    \n",
    "    return files"
   ]
  },
  {
   "cell_type": "code",
   "execution_count": 9,
   "metadata": {},
   "outputs": [],
   "source": [
    "files= ['landarea']"
   ]
  },
  {
   "cell_type": "code",
   "execution_count": 9,
   "metadata": {},
   "outputs": [],
   "source": [
    "file_path = os.path.join(\n",
    "        data_folder, 'data','infrastructure', 'port.shp')\n",
    "files = gpd.read_file(file_path)\n",
    "files.crs = {'init':'epsg:2006'}\n",
    "files = files.to_crs({'init':'epsg:2006'})\n",
    "\n",
    "\n",
    "output = os.path.join(\n",
    "        data_folder, 'data','infrastructure', 'port.shp')\n",
    "files.to_file(output)"
   ]
  },
  {
   "cell_type": "code",
   "execution_count": null,
   "metadata": {},
   "outputs": [],
   "source": []
  }
 ],
 "metadata": {
  "kernelspec": {
   "display_name": "Python 3",
   "language": "python",
   "name": "python3"
  },
  "language_info": {
   "codemirror_mode": {
    "name": "ipython",
    "version": 3
   },
   "file_extension": ".py",
   "mimetype": "text/x-python",
   "name": "python",
   "nbconvert_exporter": "python",
   "pygments_lexer": "ipython3",
   "version": "3.7.3"
  }
 },
 "nbformat": 4,
 "nbformat_minor": 2
}
