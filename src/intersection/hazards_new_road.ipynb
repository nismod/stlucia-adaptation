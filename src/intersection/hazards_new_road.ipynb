{
 "cells": [
  {
   "cell_type": "markdown",
   "metadata": {},
   "source": [
    "# Libraries import"
   ]
  },
  {
   "cell_type": "code",
   "execution_count": 1,
   "metadata": {},
   "outputs": [],
   "source": [
    "import itertools\n",
    "import os\n",
    "import sys\n",
    "from tqdm import tqdm\n",
    "\n",
    "import geopandas as gpd\n",
    "import pandas as pd\n",
    "from shapely.geometry import Polygon\n",
    "from boltons.iterutils import pairwise\n",
    "from geopy.distance import vincenty\n",
    "from osgeo import gdal\n",
    "from ipykernel import kernelapp as app\n",
    "\n",
    "%matplotlib notebook\n",
    "import matplotlib.pyplot as plt"
   ]
  },
  {
   "cell_type": "markdown",
   "metadata": {},
   "source": [
    "# Data folder overview"
   ]
  },
  {
   "cell_type": "code",
   "execution_count": 2,
   "metadata": {},
   "outputs": [],
   "source": [
    "data_folder = \"/Users/lena/Dropbox/Hackathon/rv\""
   ]
  },
  {
   "cell_type": "code",
   "execution_count": 19,
   "metadata": {},
   "outputs": [],
   "source": [
    "#INPUT FILE\n",
    "administrative_path = os.path.join(\n",
    "    data_folder, 'data','admin', 'stluc_administrative.shp')\n",
    "\n",
    "administrative = gpd.read_file(administrative_path)\n",
    "\n",
    "edge_shapefile = os.path.join(\n",
    "    data_folder, 'data','developments', 'NS Link Road option 1.shp')\n",
    "\n",
    "edge_shapefile_2 = os.path.join(\n",
    "    data_folder, 'data','developments', 'NS Link Road Option 2.shp')\n",
    "\n",
    "#edge_shapefile = gpd.read_file(edge_shapefile)\n",
    "#edge_shapefile = edge_shapefile.to_crs({'init': 'epsg:4326'})\n",
    "#edge_shapefile.crs = {'init': 'epsg:4326'}\n",
    "\n",
    "edge_id_column= 'id'\n",
    "\n",
    "hazard_shapefile = os.path.join(\n",
    "        data_folder, 'data', 'hazards', '1m_sea-level.shp')"
   ]
  },
  {
   "cell_type": "code",
   "execution_count": 25,
   "metadata": {},
   "outputs": [],
   "source": [
    "intersections_roads_path = os.path.join(\n",
    "    data_folder, 'results', 'intersections_road_NS_1_merged.csv')\n",
    "\n",
    "roads_haz_percent_exp_path = os.path.join(\n",
    "    data_folder, 'results', 'roads_hazards_NS_1_%_exp.csv')"
   ]
  },
  {
   "cell_type": "code",
   "execution_count": 41,
   "metadata": {},
   "outputs": [],
   "source": [
    "def line_length(line, ellipsoid='WGS-84'):\n",
    "    \"\"\"Length of a line in meters, given in geographic coordinates.\n",
    "    Adapted from https://gis.stackexchange.com/questions/4022/looking-for-a-pythonic-way-to-calculate-the-length-of-a-wkt-linestring#answer-115285\n",
    "    Args:\n",
    "        line: a shapely LineString object with WGS-84 coordinates.\n",
    "        ellipsoid: string name of an ellipsoid that `geopy` understands (see http://geopy.readthedocs.io/en/latest/#module-geopy.distance).\n",
    "    Returns:\n",
    "        Length of line in kilometers.\n",
    "    \"\"\"\n",
    "    if line.geometryType() == 'MultiLineString':\n",
    "        return sum(line_length(segment) for segment in line)\n",
    "\n",
    "    return sum(\n",
    "        vincenty(tuple(reversed(a)), tuple(reversed(b)), ellipsoid=ellipsoid).kilometers\n",
    "        for a, b in pairwise(line.coords)\n",
    "    )"
   ]
  },
  {
   "cell_type": "code",
   "execution_count": 104,
   "metadata": {},
   "outputs": [],
   "source": [
    "def networkedge_hazard_intersection(edge_shapefile, hazard_shapefile, output_shapefile,edge_id_column):\n",
    "    \"\"\"Intersect network edges and hazards and write results to shapefiles\n",
    "    Parameters\n",
    "    ----------\n",
    "    edge_shapefile\n",
    "        Shapefile of network LineStrings\n",
    "    hazard_shapefile\n",
    "        Shapefile of hazard Polygons\n",
    "    output_shapefile\n",
    "        String name of edge-hazard shapefile for storing results\n",
    "    Outputs\n",
    "    -------\n",
    "    output_shapefile\n",
    "        - edge_id - String name of intersecting edge ID\n",
    "        - length - Float length of intersection of edge LineString and hazard Polygon\n",
    "        - geometry - Shapely LineString geometry of intersection of edge LineString and hazard Polygon\n",
    "    \"\"\"\n",
    "    print ('* Starting {} and {} intersections'.format(edge_shapefile,hazard_shapefile))\n",
    "    #adjust which new road to assess\n",
    "    line_gpd = gpd.read_file(edge_shapefile)\n",
    "    #line_gpd.crs = {'init': 'epsg:4326'}\n",
    "    line_gpd = line_gpd.to_crs({'init': 'epsg:4326'})\n",
    "    poly_gpd = gpd.read_file(hazard_shapefile)\n",
    "       # poly_gpd.crs = {'init': 'epsg:4326'}\n",
    "    poly_gpd = poly_gpd.to_crs({'init': 'epsg:4326'})\n",
    "\n",
    "    if len(line_gpd.index) > 0 and len(poly_gpd.index) > 0:\n",
    "        line_gpd.columns = map(str.lower, line_gpd.columns)\n",
    "        poly_gpd.columns = map(str.lower, poly_gpd.columns)\n",
    "\n",
    "        line_bounding_box = line_gpd.total_bounds\n",
    "        line_bounding_box_coord = list(itertools.product([line_bounding_box[0], line_bounding_box[2]], [\n",
    "                                       line_bounding_box[1], line_bounding_box[3]]))\n",
    "        line_bounding_box_geom = Polygon(line_bounding_box_coord)\n",
    "        line_bounding_box_gpd = gpd.GeoDataFrame(pd.DataFrame(\n",
    "            [[1], [line_bounding_box_geom]]).T, crs='epsg:4326')\n",
    "        line_bounding_box_gpd.columns = ['ID', 'geometry']\n",
    "\n",
    "        poly_bounding_box = poly_gpd.total_bounds\n",
    "        poly_bounding_box_coord = list(itertools.product([poly_bounding_box[0], poly_bounding_box[2]], [\n",
    "                                       poly_bounding_box[1], poly_bounding_box[3]]))\n",
    "        poly_bounding_box_geom = Polygon(poly_bounding_box_coord)\n",
    "        poly_bounding_box_gpd = gpd.GeoDataFrame(pd.DataFrame(\n",
    "            [[1], [poly_bounding_box_geom]]).T, crs='epsg:4326')\n",
    "        poly_bounding_box_gpd.columns = ['ID', 'geometry']\n",
    "\n",
    "        poly_sindex = poly_bounding_box_gpd.sindex\n",
    "\n",
    "        selected_polys = poly_bounding_box_gpd.iloc[list(\n",
    "            poly_sindex.intersection(line_bounding_box_gpd['geometry'].iloc[0].bounds))]\n",
    "        if len(selected_polys.index) > 0:\n",
    "            data = []\n",
    "            poly_sindex = poly_gpd.sindex\n",
    "            for l_index, lines in line_gpd.iterrows():\n",
    "                intersected_polys = poly_gpd.iloc[list(\n",
    "                    poly_sindex.intersection(lines.geometry.bounds))]\n",
    "                for p_index, poly in intersected_polys.iterrows():\n",
    "                    if (lines['geometry'].intersects(poly['geometry']) is True) and (poly.geometry.is_valid is True):\n",
    "                        if line_length(lines['geometry']) > 1e-3:\n",
    "                            data.append({edge_id_column: lines[edge_id_column], 'length': 1000.0*line_length(lines['geometry'].intersection(\n",
    "                                poly['geometry'])), 'geometry': lines['geometry'].intersection(poly['geometry'])})\n",
    "                        else:\n",
    "                            data.append({edge_id_column: lines[edge_id_column], 'length': 0, 'geometry': lines['geometry']})\n",
    "            if data:\n",
    "                intersections_data = gpd.GeoDataFrame(\n",
    "                    data, columns=[edge_id_column, 'length', 'geometry'], crs='epsg:4326')\n",
    "                #intersections_data = intersections_data.to_crs({'init':'epsg:4326'})\n",
    "                intersections_data.to_file(output_shapefile)\n",
    "\n",
    "                #del intersections_data\n",
    "                \n",
    "    #return intersections_data\n",
    "    del line_gpd, poly_gpd"
   ]
  },
  {
   "cell_type": "code",
   "execution_count": 102,
   "metadata": {},
   "outputs": [],
   "source": [
    "def load_hazard(data_folder, hazard_id):  \n",
    "    hazard_path = os.path.join(\n",
    "        data_folder, 'data', 'hazards', '{}.shp'.format(hazard_id))\n",
    "    hazards = geopandas.read_file(hazard_path)\n",
    "    \n",
    "    #if hazards.crs != {'init': 'epsg:4326'}:\n",
    "    #    hazards = hazards.to_crs({'init': 'epsg:4326'})\n",
    "    return hazards"
   ]
  },
  {
   "cell_type": "code",
   "execution_count": 94,
   "metadata": {},
   "outputs": [],
   "source": [
    "hazard_ids = ['1m_sea-level','4m_storm-surge','flashflooding','landslide_susceptibility']"
   ]
  },
  {
   "cell_type": "code",
   "execution_count": 96,
   "metadata": {
    "scrolled": true
   },
   "outputs": [
    {
     "name": "stdout",
     "output_type": "stream",
     "text": [
      "* Starting /Users/lena/Dropbox/Hackathon/rv/data/developments/NS Link Road option 1.shp and /Users/lena/Dropbox/Hackathon/rv/data/hazards/1m_sea-level.shp intersections\n",
      "* Starting /Users/lena/Dropbox/Hackathon/rv/data/developments/NS Link Road option 1.shp and /Users/lena/Dropbox/Hackathon/rv/data/hazards/4m_storm-surge.shp intersections\n"
     ]
    },
    {
     "name": "stderr",
     "output_type": "stream",
     "text": [
      "/Users/lena/miniconda3/envs/nismod_int/lib/python3.7/site-packages/ipykernel_launcher.py:15: DeprecationWarning: Vincenty is deprecated and is going to be removed in geopy 2.0. Use `geopy.distance.geodesic` (or the default `geopy.distance.distance`) instead, which is more accurate and always converges.\n",
      "  from ipykernel import kernelapp as app\n"
     ]
    },
    {
     "name": "stdout",
     "output_type": "stream",
     "text": [
      "* Starting /Users/lena/Dropbox/Hackathon/rv/data/developments/NS Link Road option 1.shp and /Users/lena/Dropbox/Hackathon/rv/data/hazards/flashflooding.shp intersections\n",
      "* Starting /Users/lena/Dropbox/Hackathon/rv/data/developments/NS Link Road option 1.shp and /Users/lena/Dropbox/Hackathon/rv/data/hazards/landslide_susceptibility.shp intersections\n"
     ]
    }
   ],
   "source": [
    "all_intersections=[]\n",
    "for hazard_id in hazard_ids:\n",
    "    #OUTPUT FILE\n",
    "    hazard_shapefile = os.path.join(\n",
    "        data_folder, 'data', 'hazards', '{}.shp'.format(hazard_id))\n",
    "    output_path = os.path.join(\n",
    "        data_folder, 'results', 'intersect_road_NS_1_{}.shp'.format(hazard_id))\n",
    "    networkedge_hazard_intersection(edge_shapefile, hazard_shapefile,  output_path, edge_id_column)\n",
    "    #intersections_data = intersections_data.rename(columns={\n",
    "    #    'length': hazard_id\n",
    "    #})\n",
    "    #all_intersections.append(intersections_data)\n",
    "#all_intersections = pd.concat(all_intersections, axis=0, sort=False)\n",
    "#all_intersections.to_csv(intersections_roads_path)\n",
    "#all_intersections.head()"
   ]
  },
  {
   "cell_type": "code",
   "execution_count": 147,
   "metadata": {},
   "outputs": [
    {
     "data": {
      "text/html": [
       "<div>\n",
       "<style scoped>\n",
       "    .dataframe tbody tr th:only-of-type {\n",
       "        vertical-align: middle;\n",
       "    }\n",
       "\n",
       "    .dataframe tbody tr th {\n",
       "        vertical-align: top;\n",
       "    }\n",
       "\n",
       "    .dataframe thead th {\n",
       "        text-align: right;\n",
       "    }\n",
       "</style>\n",
       "<table border=\"1\" class=\"dataframe\">\n",
       "  <thead>\n",
       "    <tr style=\"text-align: right;\">\n",
       "      <th></th>\n",
       "      <th>id</th>\n",
       "      <th>4m_storm-surge</th>\n",
       "      <th>geometry</th>\n",
       "      <th>flashflooding</th>\n",
       "      <th>landslide_susceptibility</th>\n",
       "    </tr>\n",
       "  </thead>\n",
       "  <tbody>\n",
       "    <tr>\n",
       "      <th>0</th>\n",
       "      <td>1001</td>\n",
       "      <td>154.676128</td>\n",
       "      <td>(LINESTRING (-60.96923873466363 14.03459586946...</td>\n",
       "      <td>NaN</td>\n",
       "      <td>NaN</td>\n",
       "    </tr>\n",
       "    <tr>\n",
       "      <th>1</th>\n",
       "      <td>1001</td>\n",
       "      <td>22.436988</td>\n",
       "      <td>LINESTRING (-60.96941986887242 14.034695127377...</td>\n",
       "      <td>NaN</td>\n",
       "      <td>NaN</td>\n",
       "    </tr>\n",
       "    <tr>\n",
       "      <th>0</th>\n",
       "      <td>1001</td>\n",
       "      <td>NaN</td>\n",
       "      <td>LINESTRING (-60.925804134084 13.95862900740008...</td>\n",
       "      <td>5.146266</td>\n",
       "      <td>NaN</td>\n",
       "    </tr>\n",
       "    <tr>\n",
       "      <th>1</th>\n",
       "      <td>1001</td>\n",
       "      <td>NaN</td>\n",
       "      <td>LINESTRING (-60.92579851229083 13.958675196299...</td>\n",
       "      <td>5.146266</td>\n",
       "      <td>NaN</td>\n",
       "    </tr>\n",
       "    <tr>\n",
       "      <th>2</th>\n",
       "      <td>1001</td>\n",
       "      <td>NaN</td>\n",
       "      <td>LINESTRING (-60.92579289049766 13.958721385198...</td>\n",
       "      <td>5.146266</td>\n",
       "      <td>NaN</td>\n",
       "    </tr>\n",
       "  </tbody>\n",
       "</table>\n",
       "</div>"
      ],
      "text/plain": [
       "     id  4m_storm-surge                                           geometry  \\\n",
       "0  1001      154.676128  (LINESTRING (-60.96923873466363 14.03459586946...   \n",
       "1  1001       22.436988  LINESTRING (-60.96941986887242 14.034695127377...   \n",
       "0  1001             NaN  LINESTRING (-60.925804134084 13.95862900740008...   \n",
       "1  1001             NaN  LINESTRING (-60.92579851229083 13.958675196299...   \n",
       "2  1001             NaN  LINESTRING (-60.92579289049766 13.958721385198...   \n",
       "\n",
       "   flashflooding  landslide_susceptibility  \n",
       "0            NaN                       NaN  \n",
       "1            NaN                       NaN  \n",
       "0       5.146266                       NaN  \n",
       "1       5.146266                       NaN  \n",
       "2       5.146266                       NaN  "
      ]
     },
     "execution_count": 147,
     "metadata": {},
     "output_type": "execute_result"
    }
   ],
   "source": [
    "hazard_ids = ['4m_storm-surge','flashflooding','landslide_susceptibility']\n",
    "all_intersections=[]\n",
    "for hazard_id in hazard_ids:\n",
    "    intersections_data = gpd.read_file(os.path.join(\n",
    "        data_folder, 'results', 'intersect_road_NS_2_{}.shp'.format(hazard_id)))\n",
    "    intersections_data = intersections_data.rename(columns={\n",
    "        'length': hazard_id\n",
    "    })\n",
    "    all_intersections.append(intersections_data)\n",
    "all_intersections = pd.concat(all_intersections, axis=0, sort=False)\n",
    "all_intersections.to_csv(intersections_roads_path)\n",
    "all_intersections.head()"
   ]
  },
  {
   "cell_type": "code",
   "execution_count": 148,
   "metadata": {
    "scrolled": true
   },
   "outputs": [
    {
     "data": {
      "text/html": [
       "<div>\n",
       "<style scoped>\n",
       "    .dataframe tbody tr th:only-of-type {\n",
       "        vertical-align: middle;\n",
       "    }\n",
       "\n",
       "    .dataframe tbody tr th {\n",
       "        vertical-align: top;\n",
       "    }\n",
       "\n",
       "    .dataframe thead th {\n",
       "        text-align: right;\n",
       "    }\n",
       "</style>\n",
       "<table border=\"1\" class=\"dataframe\">\n",
       "  <thead>\n",
       "    <tr style=\"text-align: right;\">\n",
       "      <th></th>\n",
       "      <th>4m_storm-surge</th>\n",
       "      <th>flashflooding</th>\n",
       "      <th>landslide_susceptibility</th>\n",
       "    </tr>\n",
       "  </thead>\n",
       "  <tbody>\n",
       "    <tr>\n",
       "      <th>roads</th>\n",
       "      <td>177.113115</td>\n",
       "      <td>2919.521592</td>\n",
       "      <td>1154.692835</td>\n",
       "    </tr>\n",
       "  </tbody>\n",
       "</table>\n",
       "</div>"
      ],
      "text/plain": [
       "       4m_storm-surge  flashflooding  landslide_susceptibility\n",
       "roads      177.113115    2919.521592               1154.692835"
      ]
     },
     "execution_count": 148,
     "metadata": {},
     "output_type": "execute_result"
    }
   ],
   "source": [
    "#more elegantly: pd.DataFrame({'roads': all_intersections.sum()})\n",
    "roads_exp = pd.DataFrame(all_intersections.sum(), columns=['roads'])\n",
    "roads_exp = pd.DataFrame.transpose(roads_exp)\n",
    "roads_exp = roads_exp.drop(['id'], axis=1)\n",
    "roads_exp"
   ]
  },
  {
   "cell_type": "code",
   "execution_count": 149,
   "metadata": {
    "scrolled": true
   },
   "outputs": [
    {
     "data": {
      "text/plain": [
       "32451.372980624743"
      ]
     },
     "execution_count": 149,
     "metadata": {},
     "output_type": "execute_result"
    }
   ],
   "source": [
    "line_gpd = gpd.read_file(edge_shapefile)\n",
    "line_gpd = line_gpd.to_crs({'init': 'epsg:4326'})\n",
    "line_gpd_m = line_gpd.length *100000\n",
    "line_gpd_m.sum()"
   ]
  },
  {
   "cell_type": "code",
   "execution_count": 150,
   "metadata": {},
   "outputs": [],
   "source": [
    "roads_exp_per = roads_exp.copy()\n",
    "for hazard_id in hazard_ids:\n",
    "    roads_exp_per[hazard_id] = round((roads_exp[hazard_id]/ line_gpd_m.sum())*100)\n",
    "    #roads_exp_per.append(roads_per)"
   ]
  },
  {
   "cell_type": "code",
   "execution_count": 151,
   "metadata": {},
   "outputs": [
    {
     "data": {
      "text/html": [
       "<div>\n",
       "<style scoped>\n",
       "    .dataframe tbody tr th:only-of-type {\n",
       "        vertical-align: middle;\n",
       "    }\n",
       "\n",
       "    .dataframe tbody tr th {\n",
       "        vertical-align: top;\n",
       "    }\n",
       "\n",
       "    .dataframe thead th {\n",
       "        text-align: right;\n",
       "    }\n",
       "</style>\n",
       "<table border=\"1\" class=\"dataframe\">\n",
       "  <thead>\n",
       "    <tr style=\"text-align: right;\">\n",
       "      <th></th>\n",
       "      <th>4m_storm-surge</th>\n",
       "      <th>flashflooding</th>\n",
       "      <th>landslide_susceptibility</th>\n",
       "    </tr>\n",
       "  </thead>\n",
       "  <tbody>\n",
       "    <tr>\n",
       "      <th>roads</th>\n",
       "      <td>1.0</td>\n",
       "      <td>9.0</td>\n",
       "      <td>4.0</td>\n",
       "    </tr>\n",
       "  </tbody>\n",
       "</table>\n",
       "</div>"
      ],
      "text/plain": [
       "       4m_storm-surge  flashflooding  landslide_susceptibility\n",
       "roads             1.0            9.0                       4.0"
      ]
     },
     "execution_count": 151,
     "metadata": {},
     "output_type": "execute_result"
    }
   ],
   "source": [
    "roads_exp_per"
   ]
  },
  {
   "cell_type": "code",
   "execution_count": null,
   "metadata": {},
   "outputs": [],
   "source": []
  },
  {
   "cell_type": "code",
   "execution_count": null,
   "metadata": {},
   "outputs": [],
   "source": []
  },
  {
   "cell_type": "code",
   "execution_count": null,
   "metadata": {},
   "outputs": [],
   "source": []
  },
  {
   "cell_type": "code",
   "execution_count": null,
   "metadata": {},
   "outputs": [],
   "source": []
  }
 ],
 "metadata": {
  "kernelspec": {
   "display_name": "Python 3",
   "language": "python",
   "name": "python3"
  },
  "language_info": {
   "codemirror_mode": {
    "name": "ipython",
    "version": 3
   },
   "file_extension": ".py",
   "mimetype": "text/x-python",
   "name": "python",
   "nbconvert_exporter": "python",
   "pygments_lexer": "ipython3",
   "version": "3.7.8"
  }
 },
 "nbformat": 4,
 "nbformat_minor": 2
}
